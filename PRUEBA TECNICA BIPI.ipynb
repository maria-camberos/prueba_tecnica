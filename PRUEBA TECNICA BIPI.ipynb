{
 "cells": [
  {
   "cell_type": "markdown",
   "id": "1e753f65",
   "metadata": {},
   "source": [
    "#  ------------------------------------ Prueba Técnica Bipi ------------------------------------"
   ]
  },
  {
   "cell_type": "markdown",
   "id": "4b20edb0",
   "metadata": {},
   "source": [
    "# Dado el dataset que se adjunta, contestar las siguientes preguntas:\n",
    "\n"
   ]
  },
  {
   "cell_type": "markdown",
   "id": "bb4808d3",
   "metadata": {},
   "source": [
    "## - ¿Qué método de pandas utilizarías para cargar la información en un dataframe?"
   ]
  },
  {
   "cell_type": "markdown",
   "id": "8da08b09",
   "metadata": {},
   "source": [
    "Para cargar los datos los subi a mi github y utilizo pandas con pd.read_csv('archivo.csv') para cargarlos"
   ]
  },
  {
   "cell_type": "markdown",
   "id": "a8caa604",
   "metadata": {},
   "source": [
    "## - ¿Qué alternativa a pandas podrías utilizar?"
   ]
  },
  {
   "cell_type": "markdown",
   "id": "bf3256c5",
   "metadata": {},
   "source": [
    "Pyspark y SQL con la libreria SQLite"
   ]
  },
  {
   "cell_type": "markdown",
   "id": "e086db94",
   "metadata": {},
   "source": [
    "##  ¿Qué procedimientos harías para hacer una limpieza de los datos?"
   ]
  },
  {
   "cell_type": "markdown",
   "id": "0b1981e7",
   "metadata": {},
   "source": [
    "Primero un analisis general para ver el contenido de los datos, como su media, max, min, revision de valores nulos y duplicados, cambio de nombre en algunas columnas para facilitar su manejo"
   ]
  },
  {
   "cell_type": "markdown",
   "id": "4e62bf3b",
   "metadata": {},
   "source": [
    "## URL del Archivo"
   ]
  },
  {
   "cell_type": "code",
   "execution_count": 1,
   "id": "3e37205f",
   "metadata": {},
   "outputs": [],
   "source": [
    "#Datos subidos a GitHub\n",
    "url = \"https://raw.githubusercontent.com/maria-camberos/prueba_tecnica/main/customers.csv\""
   ]
  },
  {
   "cell_type": "markdown",
   "id": "49769c06",
   "metadata": {},
   "source": [
    "## Carga con Pandas"
   ]
  },
  {
   "cell_type": "code",
   "execution_count": 2,
   "id": "e674d810",
   "metadata": {},
   "outputs": [],
   "source": [
    "import pandas as pd"
   ]
  },
  {
   "cell_type": "code",
   "execution_count": 3,
   "id": "e0a471d1",
   "metadata": {},
   "outputs": [],
   "source": [
    "df = pd.read_csv(url)"
   ]
  },
  {
   "cell_type": "code",
   "execution_count": 4,
   "id": "ec537684",
   "metadata": {},
   "outputs": [
    {
     "data": {
      "text/html": [
       "<div>\n",
       "<style scoped>\n",
       "    .dataframe tbody tr th:only-of-type {\n",
       "        vertical-align: middle;\n",
       "    }\n",
       "\n",
       "    .dataframe tbody tr th {\n",
       "        vertical-align: top;\n",
       "    }\n",
       "\n",
       "    .dataframe thead th {\n",
       "        text-align: right;\n",
       "    }\n",
       "</style>\n",
       "<table border=\"1\" class=\"dataframe\">\n",
       "  <thead>\n",
       "    <tr style=\"text-align: right;\">\n",
       "      <th></th>\n",
       "      <th>CustomerID</th>\n",
       "      <th>Gender</th>\n",
       "      <th>Age</th>\n",
       "      <th>Annual Income ($)</th>\n",
       "      <th>Spending Score (1-100)</th>\n",
       "      <th>Profession</th>\n",
       "      <th>Work Experience</th>\n",
       "      <th>Family Size</th>\n",
       "    </tr>\n",
       "  </thead>\n",
       "  <tbody>\n",
       "    <tr>\n",
       "      <th>0</th>\n",
       "      <td>1</td>\n",
       "      <td>Male</td>\n",
       "      <td>19</td>\n",
       "      <td>15000</td>\n",
       "      <td>39</td>\n",
       "      <td>Healthcare</td>\n",
       "      <td>1</td>\n",
       "      <td>4</td>\n",
       "    </tr>\n",
       "    <tr>\n",
       "      <th>1</th>\n",
       "      <td>2</td>\n",
       "      <td>Male</td>\n",
       "      <td>21</td>\n",
       "      <td>35000</td>\n",
       "      <td>81</td>\n",
       "      <td>Engineer</td>\n",
       "      <td>3</td>\n",
       "      <td>3</td>\n",
       "    </tr>\n",
       "    <tr>\n",
       "      <th>2</th>\n",
       "      <td>3</td>\n",
       "      <td>Female</td>\n",
       "      <td>20</td>\n",
       "      <td>86000</td>\n",
       "      <td>6</td>\n",
       "      <td>Engineer</td>\n",
       "      <td>1</td>\n",
       "      <td>1</td>\n",
       "    </tr>\n",
       "    <tr>\n",
       "      <th>3</th>\n",
       "      <td>4</td>\n",
       "      <td>Female</td>\n",
       "      <td>23</td>\n",
       "      <td>59000</td>\n",
       "      <td>77</td>\n",
       "      <td>Lawyer</td>\n",
       "      <td>0</td>\n",
       "      <td>2</td>\n",
       "    </tr>\n",
       "    <tr>\n",
       "      <th>4</th>\n",
       "      <td>5</td>\n",
       "      <td>Female</td>\n",
       "      <td>31</td>\n",
       "      <td>38000</td>\n",
       "      <td>40</td>\n",
       "      <td>Entertainment</td>\n",
       "      <td>2</td>\n",
       "      <td>6</td>\n",
       "    </tr>\n",
       "  </tbody>\n",
       "</table>\n",
       "</div>"
      ],
      "text/plain": [
       "   CustomerID  Gender  Age  Annual Income ($)  Spending Score (1-100)  \\\n",
       "0           1    Male   19              15000                      39   \n",
       "1           2    Male   21              35000                      81   \n",
       "2           3  Female   20              86000                       6   \n",
       "3           4  Female   23              59000                      77   \n",
       "4           5  Female   31              38000                      40   \n",
       "\n",
       "      Profession  Work Experience  Family Size  \n",
       "0     Healthcare                1            4  \n",
       "1       Engineer                3            3  \n",
       "2       Engineer                1            1  \n",
       "3         Lawyer                0            2  \n",
       "4  Entertainment                2            6  "
      ]
     },
     "execution_count": 4,
     "metadata": {},
     "output_type": "execute_result"
    }
   ],
   "source": [
    "df.head()"
   ]
  },
  {
   "cell_type": "markdown",
   "id": "cae771b5",
   "metadata": {},
   "source": [
    "## Carga con PySpark"
   ]
  },
  {
   "cell_type": "code",
   "execution_count": 5,
   "id": "498c5506",
   "metadata": {},
   "outputs": [],
   "source": [
    "#pip install findspark"
   ]
  },
  {
   "cell_type": "code",
   "execution_count": 6,
   "id": "e0fcc8f8",
   "metadata": {},
   "outputs": [],
   "source": [
    "#pip install pyspark"
   ]
  },
  {
   "cell_type": "code",
   "execution_count": 7,
   "id": "8392ea35",
   "metadata": {},
   "outputs": [],
   "source": [
    "#Importamos las librerias\n",
    "import findspark\n",
    "findspark.init()"
   ]
  },
  {
   "cell_type": "code",
   "execution_count": 8,
   "id": "748755a1",
   "metadata": {},
   "outputs": [],
   "source": [
    "import pyspark\n",
    "from pyspark.sql import SparkSession"
   ]
  },
  {
   "cell_type": "code",
   "execution_count": 9,
   "id": "faf87de8",
   "metadata": {},
   "outputs": [],
   "source": [
    "#Configuramos y creamos una sesión de Spark en este caso local\n",
    "spark = SparkSession.builder.config(\"spark.driver.host\", \"localhost\").appName(\"my_session\").getOrCreate()"
   ]
  },
  {
   "cell_type": "code",
   "execution_count": 10,
   "id": "5d742755",
   "metadata": {},
   "outputs": [],
   "source": [
    "#Verificamos que este funcionando correctamente\n",
    "prueba = spark.sql(\"select 'spark' as hello\")"
   ]
  },
  {
   "cell_type": "code",
   "execution_count": 11,
   "id": "11ecfe39",
   "metadata": {},
   "outputs": [
    {
     "name": "stdout",
     "output_type": "stream",
     "text": [
      "+-----+\n",
      "|hello|\n",
      "+-----+\n",
      "|spark|\n",
      "+-----+\n",
      "\n"
     ]
    }
   ],
   "source": [
    "prueba.show()"
   ]
  },
  {
   "cell_type": "code",
   "execution_count": 12,
   "id": "2d51b16c",
   "metadata": {},
   "outputs": [],
   "source": [
    "#Importamos las librerias para realizar solicitudes HTTP a servidores web y despues trabajar con flujos de datos en memoria\n",
    "import requests\n",
    "import io\n",
    "from io import StringIO"
   ]
  },
  {
   "cell_type": "code",
   "execution_count": 13,
   "id": "c231bc57",
   "metadata": {},
   "outputs": [],
   "source": [
    "#Descargmos los datos desde GitHub y los convertimos en un objeto StringIO\n",
    "response = requests.get(url)\n",
    "csv_content = StringIO(response.text)"
   ]
  },
  {
   "cell_type": "code",
   "execution_count": 14,
   "id": "913ecc9a",
   "metadata": {},
   "outputs": [
    {
     "name": "stdout",
     "output_type": "stream",
     "text": [
      "+----------+------+---+-----------------+----------------------+-------------+---------------+-----------+\n",
      "|CustomerID|Gender|Age|Annual Income ($)|Spending Score (1-100)|   Profession|Work Experience|Family Size|\n",
      "+----------+------+---+-----------------+----------------------+-------------+---------------+-----------+\n",
      "|         1|  Male| 19|            15000|                    39|   Healthcare|              1|          4|\n",
      "|         2|  Male| 21|            35000|                    81|     Engineer|              3|          3|\n",
      "|         3|Female| 20|            86000|                     6|     Engineer|              1|          1|\n",
      "|         4|Female| 23|            59000|                    77|       Lawyer|              0|          2|\n",
      "|         5|Female| 31|            38000|                    40|Entertainment|              2|          6|\n",
      "|         6|Female| 22|            58000|                    76|       Artist|              0|          2|\n",
      "|         7|Female| 35|            31000|                     6|   Healthcare|              1|          3|\n",
      "|         8|Female| 23|            84000|                    94|   Healthcare|              1|          3|\n",
      "|         9|  Male| 64|            97000|                     3|     Engineer|              0|          3|\n",
      "|        10|Female| 30|            98000|                    72|       Artist|              1|          4|\n",
      "|        11|  Male| 67|             7000|                    14|     Engineer|              1|          3|\n",
      "|        12|Female| 35|            93000|                    99|   Healthcare|              4|          4|\n",
      "|        13|Female| 58|            80000|                    15|    Executive|              0|          5|\n",
      "|        14|Female| 24|            91000|                    77|       Lawyer|              1|          1|\n",
      "|        15|  Male| 37|            19000|                    13|       Doctor|              0|          1|\n",
      "|        16|  Male| 22|            51000|                    79|   Healthcare|              1|          2|\n",
      "|        17|Female| 35|            29000|                    35|    Homemaker|              9|          5|\n",
      "|        18|  Male| 20|            89000|                    66|   Healthcare|              1|          6|\n",
      "|        19|  Male| 52|            20000|                    29|Entertainment|              1|          4|\n",
      "|        20|Female| 35|            62000|                    98|       Artist|              0|          1|\n",
      "+----------+------+---+-----------------+----------------------+-------------+---------------+-----------+\n",
      "only showing top 20 rows\n",
      "\n"
     ]
    }
   ],
   "source": [
    "# Leemos los datos en un DataFrame de Pandas\n",
    "pandas_df = pd.read_csv(csv_content)\n",
    "\n",
    "# Convertimos el DataFrame de Pandas en un DataFrame de Spark con esquema inferido\n",
    "df_spark = spark.createDataFrame(pandas_df)\n",
    "\n",
    "# Mostramos las primeras filas del DataFrame\n",
    "df_spark.show()"
   ]
  },
  {
   "cell_type": "code",
   "execution_count": 15,
   "id": "350d7a1d",
   "metadata": {},
   "outputs": [
    {
     "name": "stdout",
     "output_type": "stream",
     "text": [
      "root\n",
      " |-- CustomerID: long (nullable = true)\n",
      " |-- Gender: string (nullable = true)\n",
      " |-- Age: long (nullable = true)\n",
      " |-- Annual Income ($): long (nullable = true)\n",
      " |-- Spending Score (1-100): long (nullable = true)\n",
      " |-- Profession: string (nullable = true)\n",
      " |-- Work Experience: long (nullable = true)\n",
      " |-- Family Size: long (nullable = true)\n",
      "\n"
     ]
    }
   ],
   "source": [
    "# Vemos el esquema resultante\n",
    "df_spark.printSchema()"
   ]
  },
  {
   "cell_type": "code",
   "execution_count": 16,
   "id": "6f072242",
   "metadata": {},
   "outputs": [
    {
     "data": {
      "text/plain": [
       "['CustomerID',\n",
       " 'Gender',\n",
       " 'Age',\n",
       " 'Annual Income ($)',\n",
       " 'Spending Score (1-100)',\n",
       " 'Profession',\n",
       " 'Work Experience',\n",
       " 'Family Size']"
      ]
     },
     "execution_count": 16,
     "metadata": {},
     "output_type": "execute_result"
    }
   ],
   "source": [
    "#Mostramos las columnas\n",
    "df_spark.columns"
   ]
  },
  {
   "cell_type": "code",
   "execution_count": 17,
   "id": "5f358200",
   "metadata": {},
   "outputs": [
    {
     "data": {
      "text/plain": [
       "2000"
      ]
     },
     "execution_count": 17,
     "metadata": {},
     "output_type": "execute_result"
    }
   ],
   "source": [
    "#Vemos el numero de filas\n",
    "df_spark.count()"
   ]
  },
  {
   "cell_type": "markdown",
   "id": "1d249429",
   "metadata": {},
   "source": [
    "## Carga con SQL"
   ]
  },
  {
   "cell_type": "markdown",
   "id": "9bf0ba5f",
   "metadata": {},
   "source": [
    "Otra menera es leer el archivo csv como anteriormente, luego usar la biblioteca sqlite3 para trabajar con SQL"
   ]
  },
  {
   "cell_type": "code",
   "execution_count": 18,
   "id": "f5331e6f",
   "metadata": {},
   "outputs": [],
   "source": [
    "#Importamos la libreria\n",
    "import sqlite3"
   ]
  },
  {
   "cell_type": "code",
   "execution_count": 19,
   "id": "851c3593",
   "metadata": {},
   "outputs": [],
   "source": [
    "#Leemos el archivo CSV desde la URL y cargamos los datos en un DataFrame de pandas\n",
    "df_sql = pd.read_csv(url)"
   ]
  },
  {
   "cell_type": "code",
   "execution_count": 20,
   "id": "c9fe1688",
   "metadata": {},
   "outputs": [],
   "source": [
    "# Creamos la conexión a una base de datos SQLite en este caso en memoria\n",
    "conn = sqlite3.connect(':memory:')"
   ]
  },
  {
   "cell_type": "code",
   "execution_count": 21,
   "id": "c28163b6",
   "metadata": {},
   "outputs": [
    {
     "data": {
      "text/plain": [
       "2000"
      ]
     },
     "execution_count": 21,
     "metadata": {},
     "output_type": "execute_result"
    }
   ],
   "source": [
    "#Guardamos el DataFrame de pandas en la base de datos SQLite como una tabla\n",
    "df_sql.to_sql('customers', conn, if_exists='replace', index=False)"
   ]
  },
  {
   "cell_type": "code",
   "execution_count": 22,
   "id": "b22af325",
   "metadata": {},
   "outputs": [
    {
     "name": "stdout",
     "output_type": "stream",
     "text": [
      "      CustomerID  Gender  Age  Annual Income ($)  Spending Score (1-100)  \\\n",
      "0              1    Male   19              15000                      39   \n",
      "1              2    Male   21              35000                      81   \n",
      "2              3  Female   20              86000                       6   \n",
      "3              4  Female   23              59000                      77   \n",
      "4              5  Female   31              38000                      40   \n",
      "...          ...     ...  ...                ...                     ...   \n",
      "1995        1996  Female   71             184387                      40   \n",
      "1996        1997  Female   91              73158                      32   \n",
      "1997        1998    Male   87              90961                      14   \n",
      "1998        1999    Male   77             182109                       4   \n",
      "1999        2000    Male   90             110610                      52   \n",
      "\n",
      "         Profession  Work Experience  Family Size  \n",
      "0        Healthcare                1            4  \n",
      "1          Engineer                3            3  \n",
      "2          Engineer                1            1  \n",
      "3            Lawyer                0            2  \n",
      "4     Entertainment                2            6  \n",
      "...             ...              ...          ...  \n",
      "1995         Artist                8            7  \n",
      "1996         Doctor                7            7  \n",
      "1997     Healthcare                9            2  \n",
      "1998      Executive                7            2  \n",
      "1999  Entertainment                5            2  \n",
      "\n",
      "[2000 rows x 8 columns]\n"
     ]
    }
   ],
   "source": [
    "# Mostramos la tabla\n",
    "query_sql1 = \"SELECT * FROM customers\"\n",
    "result_sql1 = pd.read_sql_query(query_sql1, conn)\n",
    "print(result_sql1)"
   ]
  },
  {
   "cell_type": "code",
   "execution_count": 23,
   "id": "7f913435",
   "metadata": {},
   "outputs": [],
   "source": [
    "#Cerramos la conexion\n",
    "conn.close()"
   ]
  },
  {
   "cell_type": "markdown",
   "id": "27cc523b",
   "metadata": {},
   "source": [
    "### Descripcion de columnas"
   ]
  },
  {
   "cell_type": "markdown",
   "id": "eb365792",
   "metadata": {},
   "source": [
    "CustomerID                 : Numero de ID\n",
    "\n",
    "Gender                     : Genero, \"Female\" \"Male\"\n",
    "\n",
    "Age                        : Edad de 1 al 99\n",
    "\n",
    "Annual Income ($)          : Ingreso Anual en dolares\n",
    "\n",
    "Spending Score (1-100)     :Gasto anual en porcentaje 1 al 100\n",
    "\n",
    "Profession                 : Profesion: 'Healthcare', 'Engineer', 'Lawyer', 'Entertainment', 'Artist',\n",
    "       'Executive', 'Doctor', 'Homemaker', 'Marketing'\n",
    "\n",
    "Work Experience            : Años de Experiencia de 1 al 17\n",
    "\n",
    "Family Size                : Tamaño Familia"
   ]
  },
  {
   "cell_type": "code",
   "execution_count": 24,
   "id": "8aa58f8c",
   "metadata": {},
   "outputs": [
    {
     "data": {
      "text/html": [
       "<div>\n",
       "<style scoped>\n",
       "    .dataframe tbody tr th:only-of-type {\n",
       "        vertical-align: middle;\n",
       "    }\n",
       "\n",
       "    .dataframe tbody tr th {\n",
       "        vertical-align: top;\n",
       "    }\n",
       "\n",
       "    .dataframe thead th {\n",
       "        text-align: right;\n",
       "    }\n",
       "</style>\n",
       "<table border=\"1\" class=\"dataframe\">\n",
       "  <thead>\n",
       "    <tr style=\"text-align: right;\">\n",
       "      <th></th>\n",
       "      <th>CustomerID</th>\n",
       "      <th>Gender</th>\n",
       "      <th>Age</th>\n",
       "      <th>Annual Income ($)</th>\n",
       "      <th>Spending Score (1-100)</th>\n",
       "      <th>Profession</th>\n",
       "      <th>Work Experience</th>\n",
       "      <th>Family Size</th>\n",
       "    </tr>\n",
       "  </thead>\n",
       "  <tbody>\n",
       "    <tr>\n",
       "      <th>0</th>\n",
       "      <td>1</td>\n",
       "      <td>Male</td>\n",
       "      <td>19</td>\n",
       "      <td>15000</td>\n",
       "      <td>39</td>\n",
       "      <td>Healthcare</td>\n",
       "      <td>1</td>\n",
       "      <td>4</td>\n",
       "    </tr>\n",
       "    <tr>\n",
       "      <th>1</th>\n",
       "      <td>2</td>\n",
       "      <td>Male</td>\n",
       "      <td>21</td>\n",
       "      <td>35000</td>\n",
       "      <td>81</td>\n",
       "      <td>Engineer</td>\n",
       "      <td>3</td>\n",
       "      <td>3</td>\n",
       "    </tr>\n",
       "    <tr>\n",
       "      <th>2</th>\n",
       "      <td>3</td>\n",
       "      <td>Female</td>\n",
       "      <td>20</td>\n",
       "      <td>86000</td>\n",
       "      <td>6</td>\n",
       "      <td>Engineer</td>\n",
       "      <td>1</td>\n",
       "      <td>1</td>\n",
       "    </tr>\n",
       "    <tr>\n",
       "      <th>3</th>\n",
       "      <td>4</td>\n",
       "      <td>Female</td>\n",
       "      <td>23</td>\n",
       "      <td>59000</td>\n",
       "      <td>77</td>\n",
       "      <td>Lawyer</td>\n",
       "      <td>0</td>\n",
       "      <td>2</td>\n",
       "    </tr>\n",
       "    <tr>\n",
       "      <th>4</th>\n",
       "      <td>5</td>\n",
       "      <td>Female</td>\n",
       "      <td>31</td>\n",
       "      <td>38000</td>\n",
       "      <td>40</td>\n",
       "      <td>Entertainment</td>\n",
       "      <td>2</td>\n",
       "      <td>6</td>\n",
       "    </tr>\n",
       "  </tbody>\n",
       "</table>\n",
       "</div>"
      ],
      "text/plain": [
       "   CustomerID  Gender  Age  Annual Income ($)  Spending Score (1-100)  \\\n",
       "0           1    Male   19              15000                      39   \n",
       "1           2    Male   21              35000                      81   \n",
       "2           3  Female   20              86000                       6   \n",
       "3           4  Female   23              59000                      77   \n",
       "4           5  Female   31              38000                      40   \n",
       "\n",
       "      Profession  Work Experience  Family Size  \n",
       "0     Healthcare                1            4  \n",
       "1       Engineer                3            3  \n",
       "2       Engineer                1            1  \n",
       "3         Lawyer                0            2  \n",
       "4  Entertainment                2            6  "
      ]
     },
     "execution_count": 24,
     "metadata": {},
     "output_type": "execute_result"
    }
   ],
   "source": [
    "#Primera vista de los datos\n",
    "df.head()"
   ]
  },
  {
   "cell_type": "code",
   "execution_count": 25,
   "id": "0d9ae208",
   "metadata": {},
   "outputs": [
    {
     "name": "stdout",
     "output_type": "stream",
     "text": [
      "<class 'pandas.core.frame.DataFrame'>\n",
      "RangeIndex: 2000 entries, 0 to 1999\n",
      "Data columns (total 8 columns):\n",
      " #   Column                  Non-Null Count  Dtype \n",
      "---  ------                  --------------  ----- \n",
      " 0   CustomerID              2000 non-null   int64 \n",
      " 1   Gender                  2000 non-null   object\n",
      " 2   Age                     2000 non-null   int64 \n",
      " 3   Annual Income ($)       2000 non-null   int64 \n",
      " 4   Spending Score (1-100)  2000 non-null   int64 \n",
      " 5   Profession              1965 non-null   object\n",
      " 6   Work Experience         2000 non-null   int64 \n",
      " 7   Family Size             2000 non-null   int64 \n",
      "dtypes: int64(6), object(2)\n",
      "memory usage: 125.1+ KB\n"
     ]
    }
   ],
   "source": [
    "#Informacion general\n",
    "df.info()"
   ]
  },
  {
   "cell_type": "code",
   "execution_count": 26,
   "id": "c2454e06",
   "metadata": {},
   "outputs": [
    {
     "data": {
      "text/html": [
       "<div>\n",
       "<style scoped>\n",
       "    .dataframe tbody tr th:only-of-type {\n",
       "        vertical-align: middle;\n",
       "    }\n",
       "\n",
       "    .dataframe tbody tr th {\n",
       "        vertical-align: top;\n",
       "    }\n",
       "\n",
       "    .dataframe thead th {\n",
       "        text-align: right;\n",
       "    }\n",
       "</style>\n",
       "<table border=\"1\" class=\"dataframe\">\n",
       "  <thead>\n",
       "    <tr style=\"text-align: right;\">\n",
       "      <th></th>\n",
       "      <th>CustomerID</th>\n",
       "      <th>Age</th>\n",
       "      <th>Annual Income ($)</th>\n",
       "      <th>Spending Score (1-100)</th>\n",
       "      <th>Work Experience</th>\n",
       "      <th>Family Size</th>\n",
       "    </tr>\n",
       "  </thead>\n",
       "  <tbody>\n",
       "    <tr>\n",
       "      <th>count</th>\n",
       "      <td>2000.000000</td>\n",
       "      <td>2000.000000</td>\n",
       "      <td>2000.000000</td>\n",
       "      <td>2000.000000</td>\n",
       "      <td>2000.000000</td>\n",
       "      <td>2000.000000</td>\n",
       "    </tr>\n",
       "    <tr>\n",
       "      <th>mean</th>\n",
       "      <td>1000.500000</td>\n",
       "      <td>48.960000</td>\n",
       "      <td>110731.821500</td>\n",
       "      <td>50.962500</td>\n",
       "      <td>4.102500</td>\n",
       "      <td>3.768500</td>\n",
       "    </tr>\n",
       "    <tr>\n",
       "      <th>std</th>\n",
       "      <td>577.494589</td>\n",
       "      <td>28.429747</td>\n",
       "      <td>45739.536688</td>\n",
       "      <td>27.934661</td>\n",
       "      <td>3.922204</td>\n",
       "      <td>1.970749</td>\n",
       "    </tr>\n",
       "    <tr>\n",
       "      <th>min</th>\n",
       "      <td>1.000000</td>\n",
       "      <td>0.000000</td>\n",
       "      <td>0.000000</td>\n",
       "      <td>0.000000</td>\n",
       "      <td>0.000000</td>\n",
       "      <td>1.000000</td>\n",
       "    </tr>\n",
       "    <tr>\n",
       "      <th>25%</th>\n",
       "      <td>500.750000</td>\n",
       "      <td>25.000000</td>\n",
       "      <td>74572.000000</td>\n",
       "      <td>28.000000</td>\n",
       "      <td>1.000000</td>\n",
       "      <td>2.000000</td>\n",
       "    </tr>\n",
       "    <tr>\n",
       "      <th>50%</th>\n",
       "      <td>1000.500000</td>\n",
       "      <td>48.000000</td>\n",
       "      <td>110045.000000</td>\n",
       "      <td>50.000000</td>\n",
       "      <td>3.000000</td>\n",
       "      <td>4.000000</td>\n",
       "    </tr>\n",
       "    <tr>\n",
       "      <th>75%</th>\n",
       "      <td>1500.250000</td>\n",
       "      <td>73.000000</td>\n",
       "      <td>149092.750000</td>\n",
       "      <td>75.000000</td>\n",
       "      <td>7.000000</td>\n",
       "      <td>5.000000</td>\n",
       "    </tr>\n",
       "    <tr>\n",
       "      <th>max</th>\n",
       "      <td>2000.000000</td>\n",
       "      <td>99.000000</td>\n",
       "      <td>189974.000000</td>\n",
       "      <td>100.000000</td>\n",
       "      <td>17.000000</td>\n",
       "      <td>9.000000</td>\n",
       "    </tr>\n",
       "  </tbody>\n",
       "</table>\n",
       "</div>"
      ],
      "text/plain": [
       "        CustomerID          Age  Annual Income ($)  Spending Score (1-100)  \\\n",
       "count  2000.000000  2000.000000        2000.000000             2000.000000   \n",
       "mean   1000.500000    48.960000      110731.821500               50.962500   \n",
       "std     577.494589    28.429747       45739.536688               27.934661   \n",
       "min       1.000000     0.000000           0.000000                0.000000   \n",
       "25%     500.750000    25.000000       74572.000000               28.000000   \n",
       "50%    1000.500000    48.000000      110045.000000               50.000000   \n",
       "75%    1500.250000    73.000000      149092.750000               75.000000   \n",
       "max    2000.000000    99.000000      189974.000000              100.000000   \n",
       "\n",
       "       Work Experience  Family Size  \n",
       "count      2000.000000  2000.000000  \n",
       "mean          4.102500     3.768500  \n",
       "std           3.922204     1.970749  \n",
       "min           0.000000     1.000000  \n",
       "25%           1.000000     2.000000  \n",
       "50%           3.000000     4.000000  \n",
       "75%           7.000000     5.000000  \n",
       "max          17.000000     9.000000  "
      ]
     },
     "execution_count": 26,
     "metadata": {},
     "output_type": "execute_result"
    }
   ],
   "source": [
    "#Estadisticas generales\n",
    "df.describe()"
   ]
  },
  {
   "cell_type": "markdown",
   "id": "77812529",
   "metadata": {},
   "source": [
    "Algunos datos rapidos que podemos observar es la media de Annual Income de 110045 , el max de 189974 , numero de \"Family Size\" minimo es de 1 y max de 9, \"Age\" con una edad media de 48, edad maxima de 99 y edad minima de 0 (Habria que revisar esta edad minima)"
   ]
  },
  {
   "cell_type": "code",
   "execution_count": 27,
   "id": "60a8eb8f",
   "metadata": {},
   "outputs": [
    {
     "data": {
      "text/plain": [
       "array(['Male', 'Female'], dtype=object)"
      ]
     },
     "execution_count": 27,
     "metadata": {},
     "output_type": "execute_result"
    }
   ],
   "source": [
    "#Valores unicos del genero\n",
    "df['Gender'].unique()"
   ]
  },
  {
   "cell_type": "code",
   "execution_count": 28,
   "id": "1cc89b57",
   "metadata": {},
   "outputs": [
    {
     "data": {
      "text/plain": [
       "array(['Healthcare', 'Engineer', 'Lawyer', 'Entertainment', 'Artist',\n",
       "       'Executive', 'Doctor', 'Homemaker', 'Marketing', nan], dtype=object)"
      ]
     },
     "execution_count": 28,
     "metadata": {},
     "output_type": "execute_result"
    }
   ],
   "source": [
    "#Valores unicos de la profesion\n",
    "df['Profession'].unique()"
   ]
  },
  {
   "cell_type": "code",
   "execution_count": 29,
   "id": "f8e6759b",
   "metadata": {},
   "outputs": [
    {
     "data": {
      "text/plain": [
       "CustomerID                 0\n",
       "Gender                     0\n",
       "Age                        0\n",
       "Annual Income ($)          0\n",
       "Spending Score (1-100)     0\n",
       "Profession                35\n",
       "Work Experience            0\n",
       "Family Size                0\n",
       "dtype: int64"
      ]
     },
     "execution_count": 29,
     "metadata": {},
     "output_type": "execute_result"
    }
   ],
   "source": [
    "#Revision de Nulos\n",
    "num_nulos = df.isnull().sum()\n",
    "num_nulos"
   ]
  },
  {
   "cell_type": "markdown",
   "id": "8622f2df",
   "metadata": {},
   "source": [
    "Podemos observar que hay 35 valores nulos en la Profesion"
   ]
  },
  {
   "cell_type": "code",
   "execution_count": 30,
   "id": "ddf3ff64",
   "metadata": {},
   "outputs": [],
   "source": [
    "#Por ahora eliminaremos los valores nulos, pero habria que tener en cuenta que son esos valores faltantes\n",
    "df.dropna(inplace=True)"
   ]
  },
  {
   "cell_type": "code",
   "execution_count": 31,
   "id": "150c3e7a",
   "metadata": {},
   "outputs": [
    {
     "data": {
      "text/html": [
       "<div>\n",
       "<style scoped>\n",
       "    .dataframe tbody tr th:only-of-type {\n",
       "        vertical-align: middle;\n",
       "    }\n",
       "\n",
       "    .dataframe tbody tr th {\n",
       "        vertical-align: top;\n",
       "    }\n",
       "\n",
       "    .dataframe thead th {\n",
       "        text-align: right;\n",
       "    }\n",
       "</style>\n",
       "<table border=\"1\" class=\"dataframe\">\n",
       "  <thead>\n",
       "    <tr style=\"text-align: right;\">\n",
       "      <th></th>\n",
       "      <th>CustomerID</th>\n",
       "      <th>Gender</th>\n",
       "      <th>Age</th>\n",
       "      <th>Annual Income ($)</th>\n",
       "      <th>Spending Score (1-100)</th>\n",
       "      <th>Profession</th>\n",
       "      <th>Work Experience</th>\n",
       "      <th>Family Size</th>\n",
       "    </tr>\n",
       "  </thead>\n",
       "  <tbody>\n",
       "    <tr>\n",
       "      <th>0</th>\n",
       "      <td>1</td>\n",
       "      <td>Male</td>\n",
       "      <td>19</td>\n",
       "      <td>15000</td>\n",
       "      <td>39</td>\n",
       "      <td>Healthcare</td>\n",
       "      <td>1</td>\n",
       "      <td>4</td>\n",
       "    </tr>\n",
       "    <tr>\n",
       "      <th>1</th>\n",
       "      <td>2</td>\n",
       "      <td>Male</td>\n",
       "      <td>21</td>\n",
       "      <td>35000</td>\n",
       "      <td>81</td>\n",
       "      <td>Engineer</td>\n",
       "      <td>3</td>\n",
       "      <td>3</td>\n",
       "    </tr>\n",
       "    <tr>\n",
       "      <th>2</th>\n",
       "      <td>3</td>\n",
       "      <td>Female</td>\n",
       "      <td>20</td>\n",
       "      <td>86000</td>\n",
       "      <td>6</td>\n",
       "      <td>Engineer</td>\n",
       "      <td>1</td>\n",
       "      <td>1</td>\n",
       "    </tr>\n",
       "    <tr>\n",
       "      <th>3</th>\n",
       "      <td>4</td>\n",
       "      <td>Female</td>\n",
       "      <td>23</td>\n",
       "      <td>59000</td>\n",
       "      <td>77</td>\n",
       "      <td>Lawyer</td>\n",
       "      <td>0</td>\n",
       "      <td>2</td>\n",
       "    </tr>\n",
       "    <tr>\n",
       "      <th>4</th>\n",
       "      <td>5</td>\n",
       "      <td>Female</td>\n",
       "      <td>31</td>\n",
       "      <td>38000</td>\n",
       "      <td>40</td>\n",
       "      <td>Entertainment</td>\n",
       "      <td>2</td>\n",
       "      <td>6</td>\n",
       "    </tr>\n",
       "    <tr>\n",
       "      <th>...</th>\n",
       "      <td>...</td>\n",
       "      <td>...</td>\n",
       "      <td>...</td>\n",
       "      <td>...</td>\n",
       "      <td>...</td>\n",
       "      <td>...</td>\n",
       "      <td>...</td>\n",
       "      <td>...</td>\n",
       "    </tr>\n",
       "    <tr>\n",
       "      <th>1995</th>\n",
       "      <td>1996</td>\n",
       "      <td>Female</td>\n",
       "      <td>71</td>\n",
       "      <td>184387</td>\n",
       "      <td>40</td>\n",
       "      <td>Artist</td>\n",
       "      <td>8</td>\n",
       "      <td>7</td>\n",
       "    </tr>\n",
       "    <tr>\n",
       "      <th>1996</th>\n",
       "      <td>1997</td>\n",
       "      <td>Female</td>\n",
       "      <td>91</td>\n",
       "      <td>73158</td>\n",
       "      <td>32</td>\n",
       "      <td>Doctor</td>\n",
       "      <td>7</td>\n",
       "      <td>7</td>\n",
       "    </tr>\n",
       "    <tr>\n",
       "      <th>1997</th>\n",
       "      <td>1998</td>\n",
       "      <td>Male</td>\n",
       "      <td>87</td>\n",
       "      <td>90961</td>\n",
       "      <td>14</td>\n",
       "      <td>Healthcare</td>\n",
       "      <td>9</td>\n",
       "      <td>2</td>\n",
       "    </tr>\n",
       "    <tr>\n",
       "      <th>1998</th>\n",
       "      <td>1999</td>\n",
       "      <td>Male</td>\n",
       "      <td>77</td>\n",
       "      <td>182109</td>\n",
       "      <td>4</td>\n",
       "      <td>Executive</td>\n",
       "      <td>7</td>\n",
       "      <td>2</td>\n",
       "    </tr>\n",
       "    <tr>\n",
       "      <th>1999</th>\n",
       "      <td>2000</td>\n",
       "      <td>Male</td>\n",
       "      <td>90</td>\n",
       "      <td>110610</td>\n",
       "      <td>52</td>\n",
       "      <td>Entertainment</td>\n",
       "      <td>5</td>\n",
       "      <td>2</td>\n",
       "    </tr>\n",
       "  </tbody>\n",
       "</table>\n",
       "<p>1965 rows × 8 columns</p>\n",
       "</div>"
      ],
      "text/plain": [
       "      CustomerID  Gender  Age  Annual Income ($)  Spending Score (1-100)  \\\n",
       "0              1    Male   19              15000                      39   \n",
       "1              2    Male   21              35000                      81   \n",
       "2              3  Female   20              86000                       6   \n",
       "3              4  Female   23              59000                      77   \n",
       "4              5  Female   31              38000                      40   \n",
       "...          ...     ...  ...                ...                     ...   \n",
       "1995        1996  Female   71             184387                      40   \n",
       "1996        1997  Female   91              73158                      32   \n",
       "1997        1998    Male   87              90961                      14   \n",
       "1998        1999    Male   77             182109                       4   \n",
       "1999        2000    Male   90             110610                      52   \n",
       "\n",
       "         Profession  Work Experience  Family Size  \n",
       "0        Healthcare                1            4  \n",
       "1          Engineer                3            3  \n",
       "2          Engineer                1            1  \n",
       "3            Lawyer                0            2  \n",
       "4     Entertainment                2            6  \n",
       "...             ...              ...          ...  \n",
       "1995         Artist                8            7  \n",
       "1996         Doctor                7            7  \n",
       "1997     Healthcare                9            2  \n",
       "1998      Executive                7            2  \n",
       "1999  Entertainment                5            2  \n",
       "\n",
       "[1965 rows x 8 columns]"
      ]
     },
     "execution_count": 31,
     "metadata": {},
     "output_type": "execute_result"
    }
   ],
   "source": [
    "#Nuevo dataframe\n",
    "df"
   ]
  },
  {
   "cell_type": "code",
   "execution_count": 32,
   "id": "27866738",
   "metadata": {},
   "outputs": [
    {
     "data": {
      "text/plain": [
       "CustomerID                0\n",
       "Gender                    0\n",
       "Age                       0\n",
       "Annual Income ($)         0\n",
       "Spending Score (1-100)    0\n",
       "Profession                0\n",
       "Work Experience           0\n",
       "Family Size               0\n",
       "dtype: int64"
      ]
     },
     "execution_count": 32,
     "metadata": {},
     "output_type": "execute_result"
    }
   ],
   "source": [
    "#Nueva revision de nulos y vemos que ya no existen nulos\n",
    "num_nulos2 = df.isnull().sum()\n",
    "num_nulos2"
   ]
  },
  {
   "cell_type": "code",
   "execution_count": 33,
   "id": "1735715b",
   "metadata": {},
   "outputs": [],
   "source": [
    "#Remplazamos el espacio que hay en el nombre de las columnas por un guion bajo\n",
    "nuevos_nombres = {col: col.replace(' ', '_') for col in df.columns}\n",
    "df.rename(columns=nuevos_nombres, inplace=True)"
   ]
  },
  {
   "cell_type": "code",
   "execution_count": 34,
   "id": "08e7ddb5",
   "metadata": {},
   "outputs": [],
   "source": [
    "# Cambiamos todos los nombres de las columnas a minúsculas\n",
    "df.columns = df.columns.str.lower()"
   ]
  },
  {
   "cell_type": "code",
   "execution_count": 35,
   "id": "bff6942b",
   "metadata": {},
   "outputs": [],
   "source": [
    "# Cambiamos el nombre de la columna 'Annual_Income_($)' a 'annual_income_dollars'\n",
    "df.rename(columns={'annual_income_($)': 'annual_income_dollars'}, inplace=True)"
   ]
  },
  {
   "cell_type": "code",
   "execution_count": 36,
   "id": "5041b6b4",
   "metadata": {},
   "outputs": [],
   "source": [
    "# Cambiamos el nombre de la columna 'Spending_Score_(1-100)' a 'spending_score'\n",
    "df.rename(columns={'spending_score_(1-100)': 'spending_score'}, inplace=True)"
   ]
  },
  {
   "cell_type": "code",
   "execution_count": 37,
   "id": "3e39165c",
   "metadata": {},
   "outputs": [
    {
     "data": {
      "text/html": [
       "<div>\n",
       "<style scoped>\n",
       "    .dataframe tbody tr th:only-of-type {\n",
       "        vertical-align: middle;\n",
       "    }\n",
       "\n",
       "    .dataframe tbody tr th {\n",
       "        vertical-align: top;\n",
       "    }\n",
       "\n",
       "    .dataframe thead th {\n",
       "        text-align: right;\n",
       "    }\n",
       "</style>\n",
       "<table border=\"1\" class=\"dataframe\">\n",
       "  <thead>\n",
       "    <tr style=\"text-align: right;\">\n",
       "      <th></th>\n",
       "      <th>customerid</th>\n",
       "      <th>gender</th>\n",
       "      <th>age</th>\n",
       "      <th>annual_income_dollars</th>\n",
       "      <th>spending_score</th>\n",
       "      <th>profession</th>\n",
       "      <th>work_experience</th>\n",
       "      <th>family_size</th>\n",
       "    </tr>\n",
       "  </thead>\n",
       "  <tbody>\n",
       "    <tr>\n",
       "      <th>0</th>\n",
       "      <td>1</td>\n",
       "      <td>Male</td>\n",
       "      <td>19</td>\n",
       "      <td>15000</td>\n",
       "      <td>39</td>\n",
       "      <td>Healthcare</td>\n",
       "      <td>1</td>\n",
       "      <td>4</td>\n",
       "    </tr>\n",
       "    <tr>\n",
       "      <th>1</th>\n",
       "      <td>2</td>\n",
       "      <td>Male</td>\n",
       "      <td>21</td>\n",
       "      <td>35000</td>\n",
       "      <td>81</td>\n",
       "      <td>Engineer</td>\n",
       "      <td>3</td>\n",
       "      <td>3</td>\n",
       "    </tr>\n",
       "    <tr>\n",
       "      <th>2</th>\n",
       "      <td>3</td>\n",
       "      <td>Female</td>\n",
       "      <td>20</td>\n",
       "      <td>86000</td>\n",
       "      <td>6</td>\n",
       "      <td>Engineer</td>\n",
       "      <td>1</td>\n",
       "      <td>1</td>\n",
       "    </tr>\n",
       "    <tr>\n",
       "      <th>3</th>\n",
       "      <td>4</td>\n",
       "      <td>Female</td>\n",
       "      <td>23</td>\n",
       "      <td>59000</td>\n",
       "      <td>77</td>\n",
       "      <td>Lawyer</td>\n",
       "      <td>0</td>\n",
       "      <td>2</td>\n",
       "    </tr>\n",
       "    <tr>\n",
       "      <th>4</th>\n",
       "      <td>5</td>\n",
       "      <td>Female</td>\n",
       "      <td>31</td>\n",
       "      <td>38000</td>\n",
       "      <td>40</td>\n",
       "      <td>Entertainment</td>\n",
       "      <td>2</td>\n",
       "      <td>6</td>\n",
       "    </tr>\n",
       "    <tr>\n",
       "      <th>...</th>\n",
       "      <td>...</td>\n",
       "      <td>...</td>\n",
       "      <td>...</td>\n",
       "      <td>...</td>\n",
       "      <td>...</td>\n",
       "      <td>...</td>\n",
       "      <td>...</td>\n",
       "      <td>...</td>\n",
       "    </tr>\n",
       "    <tr>\n",
       "      <th>1995</th>\n",
       "      <td>1996</td>\n",
       "      <td>Female</td>\n",
       "      <td>71</td>\n",
       "      <td>184387</td>\n",
       "      <td>40</td>\n",
       "      <td>Artist</td>\n",
       "      <td>8</td>\n",
       "      <td>7</td>\n",
       "    </tr>\n",
       "    <tr>\n",
       "      <th>1996</th>\n",
       "      <td>1997</td>\n",
       "      <td>Female</td>\n",
       "      <td>91</td>\n",
       "      <td>73158</td>\n",
       "      <td>32</td>\n",
       "      <td>Doctor</td>\n",
       "      <td>7</td>\n",
       "      <td>7</td>\n",
       "    </tr>\n",
       "    <tr>\n",
       "      <th>1997</th>\n",
       "      <td>1998</td>\n",
       "      <td>Male</td>\n",
       "      <td>87</td>\n",
       "      <td>90961</td>\n",
       "      <td>14</td>\n",
       "      <td>Healthcare</td>\n",
       "      <td>9</td>\n",
       "      <td>2</td>\n",
       "    </tr>\n",
       "    <tr>\n",
       "      <th>1998</th>\n",
       "      <td>1999</td>\n",
       "      <td>Male</td>\n",
       "      <td>77</td>\n",
       "      <td>182109</td>\n",
       "      <td>4</td>\n",
       "      <td>Executive</td>\n",
       "      <td>7</td>\n",
       "      <td>2</td>\n",
       "    </tr>\n",
       "    <tr>\n",
       "      <th>1999</th>\n",
       "      <td>2000</td>\n",
       "      <td>Male</td>\n",
       "      <td>90</td>\n",
       "      <td>110610</td>\n",
       "      <td>52</td>\n",
       "      <td>Entertainment</td>\n",
       "      <td>5</td>\n",
       "      <td>2</td>\n",
       "    </tr>\n",
       "  </tbody>\n",
       "</table>\n",
       "<p>1965 rows × 8 columns</p>\n",
       "</div>"
      ],
      "text/plain": [
       "      customerid  gender  age  annual_income_dollars  spending_score  \\\n",
       "0              1    Male   19                  15000              39   \n",
       "1              2    Male   21                  35000              81   \n",
       "2              3  Female   20                  86000               6   \n",
       "3              4  Female   23                  59000              77   \n",
       "4              5  Female   31                  38000              40   \n",
       "...          ...     ...  ...                    ...             ...   \n",
       "1995        1996  Female   71                 184387              40   \n",
       "1996        1997  Female   91                  73158              32   \n",
       "1997        1998    Male   87                  90961              14   \n",
       "1998        1999    Male   77                 182109               4   \n",
       "1999        2000    Male   90                 110610              52   \n",
       "\n",
       "         profession  work_experience  family_size  \n",
       "0        Healthcare                1            4  \n",
       "1          Engineer                3            3  \n",
       "2          Engineer                1            1  \n",
       "3            Lawyer                0            2  \n",
       "4     Entertainment                2            6  \n",
       "...             ...              ...          ...  \n",
       "1995         Artist                8            7  \n",
       "1996         Doctor                7            7  \n",
       "1997     Healthcare                9            2  \n",
       "1998      Executive                7            2  \n",
       "1999  Entertainment                5            2  \n",
       "\n",
       "[1965 rows x 8 columns]"
      ]
     },
     "execution_count": 37,
     "metadata": {},
     "output_type": "execute_result"
    }
   ],
   "source": [
    "#Nuevo dataframe\n",
    "df"
   ]
  },
  {
   "cell_type": "code",
   "execution_count": 38,
   "id": "3814de0b",
   "metadata": {},
   "outputs": [
    {
     "name": "stdout",
     "output_type": "stream",
     "text": [
      "No hay filas duplicadas en el DataFrame.\n"
     ]
    }
   ],
   "source": [
    "#Revision de duplicados\n",
    "filas_duplicadas = df[df.duplicated()]\n",
    "\n",
    "# Si las filas_duplicadas está vacío, no hay filas duplicadas en el DataFrame\n",
    "if filas_duplicadas.empty:\n",
    "    print(\"No hay filas duplicadas en el DataFrame.\")\n",
    "else:\n",
    "    print(\"Filas duplicadas en el DataFrame:\")\n",
    "    print(filas_duplicadas)"
   ]
  },
  {
   "cell_type": "code",
   "execution_count": 39,
   "id": "0cbae69a",
   "metadata": {},
   "outputs": [],
   "source": [
    "#Convertimos a string las columnas\n",
    "columnas_a_convertir = ['gender','profession']\n",
    "\n",
    "df[columnas_a_convertir] = df[columnas_a_convertir].astype(str)"
   ]
  },
  {
   "cell_type": "code",
   "execution_count": null,
   "id": "02289785",
   "metadata": {},
   "outputs": [],
   "source": []
  },
  {
   "cell_type": "code",
   "execution_count": 40,
   "id": "75dc89f2",
   "metadata": {},
   "outputs": [],
   "source": [
    "#Para su posterior uso creamos una columna nueva con el total de dinero gastado en dolares\n",
    "df['spending_money'] = (df['annual_income_dollars'] * df['spending_score']) / 100"
   ]
  },
  {
   "cell_type": "code",
   "execution_count": 41,
   "id": "aaff6e1a",
   "metadata": {},
   "outputs": [
    {
     "data": {
      "text/html": [
       "<div>\n",
       "<style scoped>\n",
       "    .dataframe tbody tr th:only-of-type {\n",
       "        vertical-align: middle;\n",
       "    }\n",
       "\n",
       "    .dataframe tbody tr th {\n",
       "        vertical-align: top;\n",
       "    }\n",
       "\n",
       "    .dataframe thead th {\n",
       "        text-align: right;\n",
       "    }\n",
       "</style>\n",
       "<table border=\"1\" class=\"dataframe\">\n",
       "  <thead>\n",
       "    <tr style=\"text-align: right;\">\n",
       "      <th></th>\n",
       "      <th>customerid</th>\n",
       "      <th>gender</th>\n",
       "      <th>age</th>\n",
       "      <th>annual_income_dollars</th>\n",
       "      <th>spending_score</th>\n",
       "      <th>profession</th>\n",
       "      <th>work_experience</th>\n",
       "      <th>family_size</th>\n",
       "      <th>spending_money</th>\n",
       "    </tr>\n",
       "  </thead>\n",
       "  <tbody>\n",
       "    <tr>\n",
       "      <th>0</th>\n",
       "      <td>1</td>\n",
       "      <td>Male</td>\n",
       "      <td>19</td>\n",
       "      <td>15000</td>\n",
       "      <td>39</td>\n",
       "      <td>Healthcare</td>\n",
       "      <td>1</td>\n",
       "      <td>4</td>\n",
       "      <td>5850.00</td>\n",
       "    </tr>\n",
       "    <tr>\n",
       "      <th>1</th>\n",
       "      <td>2</td>\n",
       "      <td>Male</td>\n",
       "      <td>21</td>\n",
       "      <td>35000</td>\n",
       "      <td>81</td>\n",
       "      <td>Engineer</td>\n",
       "      <td>3</td>\n",
       "      <td>3</td>\n",
       "      <td>28350.00</td>\n",
       "    </tr>\n",
       "    <tr>\n",
       "      <th>2</th>\n",
       "      <td>3</td>\n",
       "      <td>Female</td>\n",
       "      <td>20</td>\n",
       "      <td>86000</td>\n",
       "      <td>6</td>\n",
       "      <td>Engineer</td>\n",
       "      <td>1</td>\n",
       "      <td>1</td>\n",
       "      <td>5160.00</td>\n",
       "    </tr>\n",
       "    <tr>\n",
       "      <th>3</th>\n",
       "      <td>4</td>\n",
       "      <td>Female</td>\n",
       "      <td>23</td>\n",
       "      <td>59000</td>\n",
       "      <td>77</td>\n",
       "      <td>Lawyer</td>\n",
       "      <td>0</td>\n",
       "      <td>2</td>\n",
       "      <td>45430.00</td>\n",
       "    </tr>\n",
       "    <tr>\n",
       "      <th>4</th>\n",
       "      <td>5</td>\n",
       "      <td>Female</td>\n",
       "      <td>31</td>\n",
       "      <td>38000</td>\n",
       "      <td>40</td>\n",
       "      <td>Entertainment</td>\n",
       "      <td>2</td>\n",
       "      <td>6</td>\n",
       "      <td>15200.00</td>\n",
       "    </tr>\n",
       "    <tr>\n",
       "      <th>...</th>\n",
       "      <td>...</td>\n",
       "      <td>...</td>\n",
       "      <td>...</td>\n",
       "      <td>...</td>\n",
       "      <td>...</td>\n",
       "      <td>...</td>\n",
       "      <td>...</td>\n",
       "      <td>...</td>\n",
       "      <td>...</td>\n",
       "    </tr>\n",
       "    <tr>\n",
       "      <th>1995</th>\n",
       "      <td>1996</td>\n",
       "      <td>Female</td>\n",
       "      <td>71</td>\n",
       "      <td>184387</td>\n",
       "      <td>40</td>\n",
       "      <td>Artist</td>\n",
       "      <td>8</td>\n",
       "      <td>7</td>\n",
       "      <td>73754.80</td>\n",
       "    </tr>\n",
       "    <tr>\n",
       "      <th>1996</th>\n",
       "      <td>1997</td>\n",
       "      <td>Female</td>\n",
       "      <td>91</td>\n",
       "      <td>73158</td>\n",
       "      <td>32</td>\n",
       "      <td>Doctor</td>\n",
       "      <td>7</td>\n",
       "      <td>7</td>\n",
       "      <td>23410.56</td>\n",
       "    </tr>\n",
       "    <tr>\n",
       "      <th>1997</th>\n",
       "      <td>1998</td>\n",
       "      <td>Male</td>\n",
       "      <td>87</td>\n",
       "      <td>90961</td>\n",
       "      <td>14</td>\n",
       "      <td>Healthcare</td>\n",
       "      <td>9</td>\n",
       "      <td>2</td>\n",
       "      <td>12734.54</td>\n",
       "    </tr>\n",
       "    <tr>\n",
       "      <th>1998</th>\n",
       "      <td>1999</td>\n",
       "      <td>Male</td>\n",
       "      <td>77</td>\n",
       "      <td>182109</td>\n",
       "      <td>4</td>\n",
       "      <td>Executive</td>\n",
       "      <td>7</td>\n",
       "      <td>2</td>\n",
       "      <td>7284.36</td>\n",
       "    </tr>\n",
       "    <tr>\n",
       "      <th>1999</th>\n",
       "      <td>2000</td>\n",
       "      <td>Male</td>\n",
       "      <td>90</td>\n",
       "      <td>110610</td>\n",
       "      <td>52</td>\n",
       "      <td>Entertainment</td>\n",
       "      <td>5</td>\n",
       "      <td>2</td>\n",
       "      <td>57517.20</td>\n",
       "    </tr>\n",
       "  </tbody>\n",
       "</table>\n",
       "<p>1965 rows × 9 columns</p>\n",
       "</div>"
      ],
      "text/plain": [
       "      customerid  gender  age  annual_income_dollars  spending_score  \\\n",
       "0              1    Male   19                  15000              39   \n",
       "1              2    Male   21                  35000              81   \n",
       "2              3  Female   20                  86000               6   \n",
       "3              4  Female   23                  59000              77   \n",
       "4              5  Female   31                  38000              40   \n",
       "...          ...     ...  ...                    ...             ...   \n",
       "1995        1996  Female   71                 184387              40   \n",
       "1996        1997  Female   91                  73158              32   \n",
       "1997        1998    Male   87                  90961              14   \n",
       "1998        1999    Male   77                 182109               4   \n",
       "1999        2000    Male   90                 110610              52   \n",
       "\n",
       "         profession  work_experience  family_size  spending_money  \n",
       "0        Healthcare                1            4         5850.00  \n",
       "1          Engineer                3            3        28350.00  \n",
       "2          Engineer                1            1         5160.00  \n",
       "3            Lawyer                0            2        45430.00  \n",
       "4     Entertainment                2            6        15200.00  \n",
       "...             ...              ...          ...             ...  \n",
       "1995         Artist                8            7        73754.80  \n",
       "1996         Doctor                7            7        23410.56  \n",
       "1997     Healthcare                9            2        12734.54  \n",
       "1998      Executive                7            2         7284.36  \n",
       "1999  Entertainment                5            2        57517.20  \n",
       "\n",
       "[1965 rows x 9 columns]"
      ]
     },
     "execution_count": 41,
     "metadata": {},
     "output_type": "execute_result"
    }
   ],
   "source": [
    "#Vemos que se ha creado la nueva columna al final\n",
    "df"
   ]
  },
  {
   "cell_type": "markdown",
   "id": "38b2220a",
   "metadata": {},
   "source": [
    "## 1. Calcular el número y porcentaje sobre el total absoluto de Mujeres monoparentales que han gastado más de 15.000 dólares."
   ]
  },
  {
   "cell_type": "code",
   "execution_count": 43,
   "id": "41955af3",
   "metadata": {},
   "outputs": [],
   "source": [
    "#Definimos el gasto\n",
    "gasto_minimo = 15000"
   ]
  },
  {
   "cell_type": "code",
   "execution_count": 44,
   "id": "50f3ab5e",
   "metadata": {},
   "outputs": [],
   "source": [
    "#Filtramos donde Gender sea Female, Family_Size sea 1, Multiplicamos Annual_Income_($) por Spending_Score_(1-100) y lo dividimos entre 100 y ese resultado debe ser mayor al gasto_minimo (15,000)\n",
    "mujeres_gasto_15000 = df[(df['gender'] == 'Female') & (df['family_size'] == 1) & (df['annual_income_dollars'] * (df['spending_score'] / 100) > gasto_minimo)]"
   ]
  },
  {
   "cell_type": "code",
   "execution_count": 45,
   "id": "2b812df0",
   "metadata": {},
   "outputs": [],
   "source": [
    "# Calculamos el número de mujeres y el porcentaje\n",
    "numero_mujeres = len(mujeres_gasto_15000)\n",
    "porcentaje_mujeres_total = (numero_mujeres / len(df[df['gender'] == 'Female'])) * 100"
   ]
  },
  {
   "cell_type": "code",
   "execution_count": 46,
   "id": "fa692d89",
   "metadata": {},
   "outputs": [
    {
     "name": "stdout",
     "output_type": "stream",
     "text": [
      "Número de mujeres 140\n",
      "Porcentaje de mujeres:  % 12.006861063464838\n"
     ]
    }
   ],
   "source": [
    "print(\"Número de mujeres\",numero_mujeres)\n",
    "print(\"Porcentaje de mujeres:  %\",porcentaje_mujeres_total)"
   ]
  },
  {
   "cell_type": "markdown",
   "id": "6b8a2a86",
   "metadata": {},
   "source": [
    "## 2. Calcular cuántos abogados (M/F) hay en el dataset que tengan mayor experiencia laboral que la media de ingenieros hombres."
   ]
  },
  {
   "cell_type": "code",
   "execution_count": 47,
   "id": "a1081b3d",
   "metadata": {},
   "outputs": [],
   "source": [
    "# Calculamos la media de la experiencia laboral de ingenieros hombres\n",
    "media_ing_hombres= df[(df['gender'] == 'Male') & (df['profession'] == 'Engineer')]['work_experience'].mean()"
   ]
  },
  {
   "cell_type": "code",
   "execution_count": 48,
   "id": "e93cf5d8",
   "metadata": {},
   "outputs": [],
   "source": [
    "# Filtramos los abogados con experiencia laboral mayor que la media de ingenieros hombres\n",
    "abogados_con_mas_experiencia = df[(df['profession'] == 'Lawyer') & (df['work_experience'] > media_ing_hombres)]"
   ]
  },
  {
   "cell_type": "code",
   "execution_count": 49,
   "id": "49b2ffcb",
   "metadata": {},
   "outputs": [],
   "source": [
    "# Contamos el número de abogados con más experiencia que la media de ingenieros hombres\n",
    "numero_abogados_con_mas_experiencia = len(abogados_con_mas_experiencia)"
   ]
  },
  {
   "cell_type": "code",
   "execution_count": 50,
   "id": "29a3e445",
   "metadata": {},
   "outputs": [
    {
     "name": "stdout",
     "output_type": "stream",
     "text": [
      "Número de abogados con más experiencia que la media de ingenieros hombres es: 58\n"
     ]
    }
   ],
   "source": [
    "# Imprimimos el resultado\n",
    "print(\"Número de abogados con más experiencia que la media de ingenieros hombres es:\", numero_abogados_con_mas_experiencia)"
   ]
  },
  {
   "cell_type": "markdown",
   "id": "0b7bd464",
   "metadata": {},
   "source": [
    "## 3. Dibuja la distribución de abogados en función de su gasto anual (utiliza franjas de gasto) y de su sexo"
   ]
  },
  {
   "cell_type": "code",
   "execution_count": 51,
   "id": "95e5d866",
   "metadata": {},
   "outputs": [],
   "source": [
    "# Filtramos solo los abogados\n",
    "abogados = df[df['profession'] == 'Lawyer']"
   ]
  },
  {
   "cell_type": "code",
   "execution_count": 52,
   "id": "e9dd0bff",
   "metadata": {},
   "outputs": [],
   "source": [
    "# Definimos las franjas de gasto\n",
    "franjas_gasto = [0, 20, 40, 60, 80, 100]"
   ]
  },
  {
   "cell_type": "code",
   "execution_count": 53,
   "id": "6dcd0d78",
   "metadata": {},
   "outputs": [
    {
     "name": "stderr",
     "output_type": "stream",
     "text": [
      "C:\\Users\\realf\\AppData\\Local\\Temp\\ipykernel_55108\\4242186723.py:2: SettingWithCopyWarning: \n",
      "A value is trying to be set on a copy of a slice from a DataFrame.\n",
      "Try using .loc[row_indexer,col_indexer] = value instead\n",
      "\n",
      "See the caveats in the documentation: https://pandas.pydata.org/pandas-docs/stable/user_guide/indexing.html#returning-a-view-versus-a-copy\n",
      "  abogados['franja_gasto'] = pd.cut(abogados['spending_score'], bins=franjas_gasto)\n"
     ]
    }
   ],
   "source": [
    "# Creamos una columna que categorice a los abogados según las franjas de gasto\n",
    "abogados['franja_gasto'] = pd.cut(abogados['spending_score'], bins=franjas_gasto)"
   ]
  },
  {
   "cell_type": "code",
   "execution_count": 54,
   "id": "bdc660c7",
   "metadata": {},
   "outputs": [
    {
     "data": {
      "text/html": [
       "<div>\n",
       "<style scoped>\n",
       "    .dataframe tbody tr th:only-of-type {\n",
       "        vertical-align: middle;\n",
       "    }\n",
       "\n",
       "    .dataframe tbody tr th {\n",
       "        vertical-align: top;\n",
       "    }\n",
       "\n",
       "    .dataframe thead th {\n",
       "        text-align: right;\n",
       "    }\n",
       "</style>\n",
       "<table border=\"1\" class=\"dataframe\">\n",
       "  <thead>\n",
       "    <tr style=\"text-align: right;\">\n",
       "      <th></th>\n",
       "      <th>customerid</th>\n",
       "      <th>gender</th>\n",
       "      <th>age</th>\n",
       "      <th>annual_income_dollars</th>\n",
       "      <th>spending_score</th>\n",
       "      <th>profession</th>\n",
       "      <th>work_experience</th>\n",
       "      <th>family_size</th>\n",
       "      <th>spending_money</th>\n",
       "      <th>franja_gasto</th>\n",
       "    </tr>\n",
       "  </thead>\n",
       "  <tbody>\n",
       "    <tr>\n",
       "      <th>3</th>\n",
       "      <td>4</td>\n",
       "      <td>Female</td>\n",
       "      <td>23</td>\n",
       "      <td>59000</td>\n",
       "      <td>77</td>\n",
       "      <td>Lawyer</td>\n",
       "      <td>0</td>\n",
       "      <td>2</td>\n",
       "      <td>45430.00</td>\n",
       "      <td>(60, 80]</td>\n",
       "    </tr>\n",
       "    <tr>\n",
       "      <th>13</th>\n",
       "      <td>14</td>\n",
       "      <td>Female</td>\n",
       "      <td>24</td>\n",
       "      <td>91000</td>\n",
       "      <td>77</td>\n",
       "      <td>Lawyer</td>\n",
       "      <td>1</td>\n",
       "      <td>1</td>\n",
       "      <td>70070.00</td>\n",
       "      <td>(60, 80]</td>\n",
       "    </tr>\n",
       "    <tr>\n",
       "      <th>34</th>\n",
       "      <td>35</td>\n",
       "      <td>Female</td>\n",
       "      <td>49</td>\n",
       "      <td>91000</td>\n",
       "      <td>14</td>\n",
       "      <td>Lawyer</td>\n",
       "      <td>1</td>\n",
       "      <td>2</td>\n",
       "      <td>12740.00</td>\n",
       "      <td>(0, 20]</td>\n",
       "    </tr>\n",
       "    <tr>\n",
       "      <th>45</th>\n",
       "      <td>46</td>\n",
       "      <td>Female</td>\n",
       "      <td>24</td>\n",
       "      <td>3000</td>\n",
       "      <td>65</td>\n",
       "      <td>Lawyer</td>\n",
       "      <td>4</td>\n",
       "      <td>2</td>\n",
       "      <td>1950.00</td>\n",
       "      <td>(60, 80]</td>\n",
       "    </tr>\n",
       "    <tr>\n",
       "      <th>59</th>\n",
       "      <td>60</td>\n",
       "      <td>Male</td>\n",
       "      <td>53</td>\n",
       "      <td>89000</td>\n",
       "      <td>46</td>\n",
       "      <td>Lawyer</td>\n",
       "      <td>1</td>\n",
       "      <td>6</td>\n",
       "      <td>40940.00</td>\n",
       "      <td>(40, 60]</td>\n",
       "    </tr>\n",
       "    <tr>\n",
       "      <th>...</th>\n",
       "      <td>...</td>\n",
       "      <td>...</td>\n",
       "      <td>...</td>\n",
       "      <td>...</td>\n",
       "      <td>...</td>\n",
       "      <td>...</td>\n",
       "      <td>...</td>\n",
       "      <td>...</td>\n",
       "      <td>...</td>\n",
       "      <td>...</td>\n",
       "    </tr>\n",
       "    <tr>\n",
       "      <th>1948</th>\n",
       "      <td>1949</td>\n",
       "      <td>Female</td>\n",
       "      <td>91</td>\n",
       "      <td>142602</td>\n",
       "      <td>64</td>\n",
       "      <td>Lawyer</td>\n",
       "      <td>7</td>\n",
       "      <td>6</td>\n",
       "      <td>91265.28</td>\n",
       "      <td>(60, 80]</td>\n",
       "    </tr>\n",
       "    <tr>\n",
       "      <th>1954</th>\n",
       "      <td>1955</td>\n",
       "      <td>Female</td>\n",
       "      <td>48</td>\n",
       "      <td>131656</td>\n",
       "      <td>45</td>\n",
       "      <td>Lawyer</td>\n",
       "      <td>9</td>\n",
       "      <td>6</td>\n",
       "      <td>59245.20</td>\n",
       "      <td>(40, 60]</td>\n",
       "    </tr>\n",
       "    <tr>\n",
       "      <th>1977</th>\n",
       "      <td>1978</td>\n",
       "      <td>Male</td>\n",
       "      <td>60</td>\n",
       "      <td>125968</td>\n",
       "      <td>100</td>\n",
       "      <td>Lawyer</td>\n",
       "      <td>8</td>\n",
       "      <td>2</td>\n",
       "      <td>125968.00</td>\n",
       "      <td>(80, 100]</td>\n",
       "    </tr>\n",
       "    <tr>\n",
       "      <th>1982</th>\n",
       "      <td>1983</td>\n",
       "      <td>Male</td>\n",
       "      <td>33</td>\n",
       "      <td>137094</td>\n",
       "      <td>68</td>\n",
       "      <td>Lawyer</td>\n",
       "      <td>4</td>\n",
       "      <td>1</td>\n",
       "      <td>93223.92</td>\n",
       "      <td>(60, 80]</td>\n",
       "    </tr>\n",
       "    <tr>\n",
       "      <th>1984</th>\n",
       "      <td>1985</td>\n",
       "      <td>Female</td>\n",
       "      <td>2</td>\n",
       "      <td>153622</td>\n",
       "      <td>51</td>\n",
       "      <td>Lawyer</td>\n",
       "      <td>6</td>\n",
       "      <td>6</td>\n",
       "      <td>78347.22</td>\n",
       "      <td>(40, 60]</td>\n",
       "    </tr>\n",
       "  </tbody>\n",
       "</table>\n",
       "<p>142 rows × 10 columns</p>\n",
       "</div>"
      ],
      "text/plain": [
       "      customerid  gender  age  annual_income_dollars  spending_score  \\\n",
       "3              4  Female   23                  59000              77   \n",
       "13            14  Female   24                  91000              77   \n",
       "34            35  Female   49                  91000              14   \n",
       "45            46  Female   24                   3000              65   \n",
       "59            60    Male   53                  89000              46   \n",
       "...          ...     ...  ...                    ...             ...   \n",
       "1948        1949  Female   91                 142602              64   \n",
       "1954        1955  Female   48                 131656              45   \n",
       "1977        1978    Male   60                 125968             100   \n",
       "1982        1983    Male   33                 137094              68   \n",
       "1984        1985  Female    2                 153622              51   \n",
       "\n",
       "     profession  work_experience  family_size  spending_money franja_gasto  \n",
       "3        Lawyer                0            2        45430.00     (60, 80]  \n",
       "13       Lawyer                1            1        70070.00     (60, 80]  \n",
       "34       Lawyer                1            2        12740.00      (0, 20]  \n",
       "45       Lawyer                4            2         1950.00     (60, 80]  \n",
       "59       Lawyer                1            6        40940.00     (40, 60]  \n",
       "...         ...              ...          ...             ...          ...  \n",
       "1948     Lawyer                7            6        91265.28     (60, 80]  \n",
       "1954     Lawyer                9            6        59245.20     (40, 60]  \n",
       "1977     Lawyer                8            2       125968.00    (80, 100]  \n",
       "1982     Lawyer                4            1        93223.92     (60, 80]  \n",
       "1984     Lawyer                6            6        78347.22     (40, 60]  \n",
       "\n",
       "[142 rows x 10 columns]"
      ]
     },
     "execution_count": 54,
     "metadata": {},
     "output_type": "execute_result"
    }
   ],
   "source": [
    "#Sea creado la nueva columna 'franja_gasto'\n",
    "abogados"
   ]
  },
  {
   "cell_type": "code",
   "execution_count": 55,
   "id": "651635bd",
   "metadata": {},
   "outputs": [
    {
     "data": {
      "image/png": "[encoded data removed]",
      "text/plain": [
       "<Figure size 1000x600 with 1 Axes>"
      ]
     },
     "metadata": {},
     "output_type": "display_data"
    }
   ],
   "source": [
    "import matplotlib.pyplot as plt\n",
    "\n",
    "# Creamos un gráfico de barras\n",
    "g = abogados.groupby(['franja_gasto', 'gender']).size().unstack().plot(kind='bar', figsize=(10, 6))\n",
    "\n",
    "# Personalizamos el gráfico\n",
    "plt.title('Distribución de Abogados por Franja de Gasto y Sexo')\n",
    "plt.xlabel('Franja de Gasto')\n",
    "plt.ylabel('Número de Abogados')\n",
    "plt.xticks(rotation=45)\n",
    "plt.legend(title='Sexo')\n",
    "\n",
    "# Mostramos el gráfico\n",
    "plt.show()"
   ]
  },
  {
   "cell_type": "markdown",
   "id": "9ec37967",
   "metadata": {},
   "source": [
    "## 4. Añade algún análisis que creas que puede ser interesante explicando por pantalla el resultado del mismo."
   ]
  },
  {
   "cell_type": "code",
   "execution_count": null,
   "id": "69594f24",
   "metadata": {},
   "outputs": [],
   "source": []
  },
  {
   "cell_type": "markdown",
   "id": "fa063bd8",
   "metadata": {},
   "source": [
    "## 4.1 Proporción de hombres y mujeres"
   ]
  },
  {
   "cell_type": "code",
   "execution_count": 56,
   "id": "2695703b",
   "metadata": {},
   "outputs": [],
   "source": [
    "# Calculamos la cantidad de hombres y mujeres\n",
    "conteo_genero = df['gender'].value_counts()\n",
    "\n",
    "# Calculamos el porcentaje de hombres y mujeres\n",
    "total = conteo_genero.sum()\n",
    "porcentaje = (conteo_genero / total) * 100"
   ]
  },
  {
   "cell_type": "code",
   "execution_count": 57,
   "id": "db5e96b1",
   "metadata": {},
   "outputs": [
    {
     "data": {
      "image/png": "[encoded data removed]",
      "text/plain": [
       "<Figure size 600x600 with 1 Axes>"
      ]
     },
     "metadata": {},
     "output_type": "display_data"
    }
   ],
   "source": [
    "# Creamos un gráfico de pastel\n",
    "plt.figure(figsize=(6, 6))\n",
    "plt.pie(porcentaje, labels=porcentaje.index, autopct='%1.1f%%', startangle=90)\n",
    "plt.title('Proporción de género')\n",
    "plt.show()"
   ]
  },
  {
   "cell_type": "markdown",
   "id": "f127d694",
   "metadata": {},
   "source": [
    "## 4.2 Porcentaje de personas con ingresos anuales por encima de $160,000"
   ]
  },
  {
   "cell_type": "code",
   "execution_count": 58,
   "id": "a6681c46",
   "metadata": {},
   "outputs": [],
   "source": [
    "# Calculamos el porcentaje de personas con ingresos por encima de 160000\n",
    "clientes_con_ingresos_altos = df[df['annual_income_dollars'] > 160000]\n",
    "porcentaje_ingresos_altos = (len(clientes_con_ingresos_altos) / len(df)) * 100"
   ]
  },
  {
   "cell_type": "code",
   "execution_count": 59,
   "id": "c1ed14be",
   "metadata": {},
   "outputs": [
    {
     "name": "stdout",
     "output_type": "stream",
     "text": [
      "Porcentaje de personas con ingresos por encima de $160,000:  % 18.11704834605598\n"
     ]
    }
   ],
   "source": [
    "print(\"Porcentaje de personas con ingresos por encima de $160,000:  %\",porcentaje_ingresos_altos)"
   ]
  },
  {
   "cell_type": "markdown",
   "id": "2ee29296",
   "metadata": {},
   "source": [
    "## 4.3 ¿Cual es el gasto promedio por profesion?"
   ]
  },
  {
   "cell_type": "code",
   "execution_count": 60,
   "id": "f8e46992",
   "metadata": {},
   "outputs": [
    {
     "data": {
      "image/png": "[encoded data removed]",
      "text/plain": [
       "<Figure size 640x480 with 1 Axes>"
      ]
     },
     "metadata": {},
     "output_type": "display_data"
    }
   ],
   "source": [
    "# Agrupamos por profesión y calculamos el promedio de spending_money\n",
    "gasto_profesiones = df.groupby('profession')['spending_money'].mean()\n",
    "\n",
    "# Crear un gráfico de barras\n",
    "gasto_profesiones.plot(kind='bar', color='skyblue')\n",
    "plt.title('Gasto promedio por profesión')\n",
    "plt.xlabel('Profesión')\n",
    "plt.ylabel('Gasto promedio')\n",
    "plt.xticks(rotation=45, ha='right')\n",
    "plt.show()"
   ]
  },
  {
   "cell_type": "markdown",
   "id": "e5a1fc22",
   "metadata": {},
   "source": [
    "Este grafico nos muestra que en general las profesiones tienen un gasto promedio similar, siendo un poco mayor 'Entertainment', 'Doctor', 'Arist'. Y un menor gasto 'Homemaker'"
   ]
  },
  {
   "cell_type": "markdown",
   "id": "2eb30aef",
   "metadata": {},
   "source": [
    "## Consultas con SQL"
   ]
  },
  {
   "cell_type": "markdown",
   "id": "367ffbe3",
   "metadata": {},
   "source": [
    "Como ya tenemos una tabla limpia y con las columnas renombradas la utilizaremos para realizar las consultas con pandasql"
   ]
  },
  {
   "cell_type": "code",
   "execution_count": 61,
   "id": "122f1276",
   "metadata": {},
   "outputs": [],
   "source": [
    "#pip install pandasql"
   ]
  },
  {
   "cell_type": "code",
   "execution_count": 62,
   "id": "17e8ddea",
   "metadata": {},
   "outputs": [],
   "source": [
    "import pandasql as psql"
   ]
  },
  {
   "cell_type": "code",
   "execution_count": 63,
   "id": "5bbac991",
   "metadata": {},
   "outputs": [
    {
     "data": {
      "text/html": [
       "<div>\n",
       "<style scoped>\n",
       "    .dataframe tbody tr th:only-of-type {\n",
       "        vertical-align: middle;\n",
       "    }\n",
       "\n",
       "    .dataframe tbody tr th {\n",
       "        vertical-align: top;\n",
       "    }\n",
       "\n",
       "    .dataframe thead th {\n",
       "        text-align: right;\n",
       "    }\n",
       "</style>\n",
       "<table border=\"1\" class=\"dataframe\">\n",
       "  <thead>\n",
       "    <tr style=\"text-align: right;\">\n",
       "      <th></th>\n",
       "      <th>customerid</th>\n",
       "      <th>gender</th>\n",
       "      <th>age</th>\n",
       "      <th>annual_income_dollars</th>\n",
       "      <th>spending_score</th>\n",
       "      <th>profession</th>\n",
       "      <th>work_experience</th>\n",
       "      <th>family_size</th>\n",
       "      <th>spending_money</th>\n",
       "    </tr>\n",
       "  </thead>\n",
       "  <tbody>\n",
       "    <tr>\n",
       "      <th>0</th>\n",
       "      <td>1</td>\n",
       "      <td>Male</td>\n",
       "      <td>19</td>\n",
       "      <td>15000</td>\n",
       "      <td>39</td>\n",
       "      <td>Healthcare</td>\n",
       "      <td>1</td>\n",
       "      <td>4</td>\n",
       "      <td>5850.0</td>\n",
       "    </tr>\n",
       "    <tr>\n",
       "      <th>1</th>\n",
       "      <td>2</td>\n",
       "      <td>Male</td>\n",
       "      <td>21</td>\n",
       "      <td>35000</td>\n",
       "      <td>81</td>\n",
       "      <td>Engineer</td>\n",
       "      <td>3</td>\n",
       "      <td>3</td>\n",
       "      <td>28350.0</td>\n",
       "    </tr>\n",
       "    <tr>\n",
       "      <th>2</th>\n",
       "      <td>3</td>\n",
       "      <td>Female</td>\n",
       "      <td>20</td>\n",
       "      <td>86000</td>\n",
       "      <td>6</td>\n",
       "      <td>Engineer</td>\n",
       "      <td>1</td>\n",
       "      <td>1</td>\n",
       "      <td>5160.0</td>\n",
       "    </tr>\n",
       "    <tr>\n",
       "      <th>3</th>\n",
       "      <td>4</td>\n",
       "      <td>Female</td>\n",
       "      <td>23</td>\n",
       "      <td>59000</td>\n",
       "      <td>77</td>\n",
       "      <td>Lawyer</td>\n",
       "      <td>0</td>\n",
       "      <td>2</td>\n",
       "      <td>45430.0</td>\n",
       "    </tr>\n",
       "    <tr>\n",
       "      <th>4</th>\n",
       "      <td>5</td>\n",
       "      <td>Female</td>\n",
       "      <td>31</td>\n",
       "      <td>38000</td>\n",
       "      <td>40</td>\n",
       "      <td>Entertainment</td>\n",
       "      <td>2</td>\n",
       "      <td>6</td>\n",
       "      <td>15200.0</td>\n",
       "    </tr>\n",
       "  </tbody>\n",
       "</table>\n",
       "</div>"
      ],
      "text/plain": [
       "   customerid  gender  age  annual_income_dollars  spending_score  \\\n",
       "0           1    Male   19                  15000              39   \n",
       "1           2    Male   21                  35000              81   \n",
       "2           3  Female   20                  86000               6   \n",
       "3           4  Female   23                  59000              77   \n",
       "4           5  Female   31                  38000              40   \n",
       "\n",
       "      profession  work_experience  family_size  spending_money  \n",
       "0     Healthcare                1            4          5850.0  \n",
       "1       Engineer                3            3         28350.0  \n",
       "2       Engineer                1            1          5160.0  \n",
       "3         Lawyer                0            2         45430.0  \n",
       "4  Entertainment                2            6         15200.0  "
      ]
     },
     "execution_count": 63,
     "metadata": {},
     "output_type": "execute_result"
    }
   ],
   "source": [
    "df.head()"
   ]
  },
  {
   "cell_type": "markdown",
   "id": "65f73ffa",
   "metadata": {},
   "source": [
    "## 4.4 Seleccionar todos las personas cuya puntuación de gasto sea mayor o igual a 70 y edad entre 20 y 30 años:\n"
   ]
  },
  {
   "cell_type": "code",
   "execution_count": 64,
   "id": "a2047c5d",
   "metadata": {},
   "outputs": [
    {
     "name": "stdout",
     "output_type": "stream",
     "text": [
      "    customerid  gender  age  spending_score\n",
      "0          313  Female   24             100\n",
      "1         1138    Male   29             100\n",
      "2         1433  Female   25              98\n",
      "3          146    Male   28              97\n",
      "4          186    Male   30              97\n",
      "..         ...     ...  ...             ...\n",
      "78        1814  Female   29              73\n",
      "79          10  Female   30              72\n",
      "80        1848  Female   26              72\n",
      "81         954    Male   29              71\n",
      "82        1821    Male   23              70\n",
      "\n",
      "[83 rows x 4 columns]\n"
     ]
    }
   ],
   "source": [
    "query = \"SELECT customerid, gender, age, spending_score FROM df WHERE spending_score >= 70 AND age BETWEEN 20 AND 30 ORDER BY spending_score DESC;\"\n",
    "resultado = psql.sqldf(query, locals())\n",
    "print(resultado)"
   ]
  },
  {
   "cell_type": "markdown",
   "id": "e944942b",
   "metadata": {},
   "source": [
    "Este resultado nos arroja las personas de entre 20 y 30 años con un spending_score alto por encima del 70 puntos"
   ]
  },
  {
   "cell_type": "markdown",
   "id": "fca18d9c",
   "metadata": {},
   "source": [
    "## 4.5 Seleccionar las 3 profesiones con mayor annual_income_dollars"
   ]
  },
  {
   "cell_type": "code",
   "execution_count": 65,
   "id": "4ba3415d",
   "metadata": {},
   "outputs": [
    {
     "name": "stdout",
     "output_type": "stream",
     "text": [
      "      profession  Total_Income\n",
      "0         Artist      66571267\n",
      "1     Healthcare      38162600\n",
      "2  Entertainment      25892178\n"
     ]
    }
   ],
   "source": [
    "query2 = \"SELECT profession, SUM(annual_income_dollars) AS Total_Income FROM df GROUP BY profession ORDER BY Total_Income DESC LIMIT 3\" \n",
    "resultado2 = psql.sqldf(query2, locals())\n",
    "print(resultado2)"
   ]
  },
  {
   "cell_type": "markdown",
   "id": "3d674ec1",
   "metadata": {},
   "source": [
    "Observamos que las profesiones 'Artist', 'Healthcare', 'Entertainment' son las que tienen mayor ingreso anual segun estos datos"
   ]
  },
  {
   "cell_type": "markdown",
   "id": "71640801",
   "metadata": {},
   "source": [
    "## 4.6 ¿Cual es la Edad promedio de cada profesion?"
   ]
  },
  {
   "cell_type": "code",
   "execution_count": 66,
   "id": "5fa91b9f",
   "metadata": {},
   "outputs": [
    {
     "name": "stdout",
     "output_type": "stream",
     "text": [
      "      profession  Edad_Promedio\n",
      "0       Engineer      55.094972\n",
      "1  Entertainment      51.162393\n",
      "2         Artist      49.004902\n",
      "3     Healthcare      47.843658\n",
      "4         Lawyer      47.753521\n",
      "5         Doctor      46.621118\n",
      "6      Executive      46.601307\n",
      "7      Marketing      45.823529\n",
      "8      Homemaker      45.366667\n"
     ]
    }
   ],
   "source": [
    "query3 = \"SELECT profession, AVG(age) AS Edad_Promedio FROM df GROUP BY profession ORDER BY 2 DESC\"\n",
    "resultado3 = psql.sqldf(query3, locals())\n",
    "print(resultado3)"
   ]
  },
  {
   "cell_type": "markdown",
   "id": "51c90c3d",
   "metadata": {},
   "source": [
    "Ademas de ver la edad promedio por profesion, los resultados nos muestran que 'Engineer' tiene la mayor edad promedio con 55 años y 'Homemaker' tiene la menor edad promedio con 45 años."
   ]
  },
  {
   "cell_type": "markdown",
   "id": "d9b03b4a",
   "metadata": {},
   "source": [
    "## 4.7¿Cual es la persona con el mayor annual_income_dollars?"
   ]
  },
  {
   "cell_type": "code",
   "execution_count": 67,
   "id": "2c42167c",
   "metadata": {},
   "outputs": [
    {
     "name": "stdout",
     "output_type": "stream",
     "text": [
      "   customerid  gender  age profession  MAX(annual_income_dollars)\n",
      "0         570  Female   91   Engineer                      189974\n"
     ]
    }
   ],
   "source": [
    "query4 = \"SELECT customerid, gender, age, profession, MAX(annual_income_dollars)  FROM df\"\n",
    "resultado4 = psql.sqldf(query4, locals())\n",
    "print(resultado4)"
   ]
  },
  {
   "cell_type": "markdown",
   "id": "ae976203",
   "metadata": {},
   "source": [
    "Los resultados nos muestran que la persona con el 'customer id' 570 tiene el mayor ingreso anual con $189,974.00"
   ]
  },
  {
   "cell_type": "markdown",
   "id": "5ba9b9b3",
   "metadata": {},
   "source": [
    "## 4.8¿Cual es el promedio de annual_income_dollars para hombres y mujeres?"
   ]
  },
  {
   "cell_type": "code",
   "execution_count": 68,
   "id": "5baf29ef",
   "metadata": {},
   "outputs": [
    {
     "name": "stdout",
     "output_type": "stream",
     "text": [
      "   gender  Promedio_Anual\n",
      "0  Female   110434.875643\n",
      "1    Male   110880.342929\n"
     ]
    }
   ],
   "source": [
    "query6 = \"SELECT gender, AVG(annual_income_dollars) AS Promedio_Anual FROM df GROUP BY gender\"\n",
    "resultado6 = psql.sqldf(query6, locals())\n",
    "print(resultado6)"
   ]
  },
  {
   "cell_type": "markdown",
   "id": "87ce01a9",
   "metadata": {},
   "source": [
    "Podemos ver que segun estos datos los hombres y las mujeres tienen un ingreso anual parecido"
   ]
  },
  {
   "cell_type": "markdown",
   "id": "2f0cf268",
   "metadata": {},
   "source": [
    "## 4.9 ¿Cuales mujeres con edad mayor de 40, con profesion de Doctor tiene un ingreso menor a 60,000?\n"
   ]
  },
  {
   "cell_type": "code",
   "execution_count": 69,
   "id": "cf28ad99",
   "metadata": {},
   "outputs": [
    {
     "name": "stdout",
     "output_type": "stream",
     "text": [
      "   customerid  gender  age  annual_income_dollars  spending_score profession  \\\n",
      "0          37  Female   42                  14000              17     Doctor   \n",
      "1          67  Female   43                   3000              50     Doctor   \n",
      "2          90  Female   50                  56000              46     Doctor   \n",
      "3         209  Female   48                  15000               7     Doctor   \n",
      "4         218  Female   83                  35000              99     Doctor   \n",
      "5         262  Female   52                  35000              85     Doctor   \n",
      "6         673  Female   65                  58318              45     Doctor   \n",
      "7         819  Female   65                  56647              12     Doctor   \n",
      "8        1405  Female   91                  53788              57     Doctor   \n",
      "\n",
      "   work_experience  family_size  spending_money  \n",
      "0                5            1         2380.00  \n",
      "1                0            2         1500.00  \n",
      "2                0            2        25760.00  \n",
      "3                0            2         1050.00  \n",
      "4                8            2        34650.00  \n",
      "5                2            6        29750.00  \n",
      "6                1            1        26243.10  \n",
      "7                6            4         6797.64  \n",
      "8                0            2        30659.16  \n"
     ]
    }
   ],
   "source": [
    "query7 = \"SELECT * FROM df WHERE gender = 'Female' AND age>=40 and profession ='Doctor' AND annual_income_dollars < 60000\"\n",
    "resultado7 = psql.sqldf(query7, locals())\n",
    "print(resultado7)"
   ]
  },
  {
   "cell_type": "markdown",
   "id": "269ab34e",
   "metadata": {},
   "source": [
    "## 4.10 ¿Cuales son las 20 personas con mayor annual_income_dollars  y family_size menor a 3 integrantes ?"
   ]
  },
  {
   "cell_type": "code",
   "execution_count": 70,
   "id": "51c35d79",
   "metadata": {},
   "outputs": [
    {
     "name": "stdout",
     "output_type": "stream",
     "text": [
      "    customerid  gender  spending_money  family_size  annual_income_dollars\n",
      "0          570  Female        70290.38            1                 189974\n",
      "1         1166    Male        34109.64            1                 189498\n",
      "2          962    Male         7574.28            1                 189357\n",
      "3         1159  Female         7542.28            2                 188557\n",
      "4          778    Male        97815.64            2                 188107\n",
      "5         1294  Female       167229.22            2                 187898\n",
      "6          417  Female        22520.04            1                 187667\n",
      "7         1307  Female         5629.29            1                 187643\n",
      "8          457    Male        13110.79            1                 187297\n",
      "9         1253  Female       160546.52            1                 186682\n",
      "10        1717    Male        95203.23            1                 186673\n",
      "11        1589  Female        76442.45            1                 186445\n",
      "12         403    Male       177041.05            2                 186359\n",
      "13        1691  Female        68943.58            1                 186334\n",
      "14        1869    Male       100524.78            1                 186157\n",
      "15         716  Female        91173.81            2                 186069\n",
      "16         467    Male       148801.60            2                 186002\n",
      "17         731    Male       128197.86            1                 185794\n",
      "18        1168  Female       100197.00            1                 185550\n",
      "19         842  Female       100109.52            2                 185388\n"
     ]
    }
   ],
   "source": [
    "query8 = \"SELECT customerid, gender, spending_money, family_size, annual_income_dollars FROM df WHERE family_size < 3 ORDER BY annual_income_dollars DESC, family_size ASC LIMIT 20\"\n",
    "resultado8 = psql.sqldf(query8, locals())\n",
    "print(resultado8)"
   ]
  },
  {
   "cell_type": "markdown",
   "id": "4563859d",
   "metadata": {},
   "source": [
    "Este resultado nos muestra a las 20 personas con un mayor ingreso anual y un número familiar menor a 3. Por ejemplo si tuviera esta información para la suscripción de coches, dado su ingreso y el número de integrantes menor, podrian tener un mayor poder adquisitivo y por tanto ser grupo interesante para ofrecerles más servicios."
   ]
  },
  {
   "cell_type": "code",
   "execution_count": null,
   "id": "97b89ac5",
   "metadata": {},
   "outputs": [],
   "source": []
  }
 ],
 "metadata": {
  "kernelspec": {
   "display_name": "Python 3 (ipykernel)",
   "language": "python",
   "name": "python3"
  },
  "language_info": {
   "codemirror_mode": {
    "name": "ipython",
    "version": 3
   },
   "file_extension": ".py",
   "mimetype": "text/x-python",
   "name": "python",
   "nbconvert_exporter": "python",
   "pygments_lexer": "ipython3",
   "version": "3.11.4"
  }
 },
 "nbformat": 4,
 "nbformat_minor": 5
}
